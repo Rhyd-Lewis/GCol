{
 "cells": [
  {
   "cell_type": "markdown",
   "id": "a815cfec-ad77-4207-b22b-85fa6077d81c",
   "metadata": {},
   "source": [
    "# Case Study: Exam Timetabling\n",
    "\n",
    "In this chapter, we consider a practical case study concerning the use of graph coloring methods in the production of exam timetables at a university. This will help to showcase the various tools available in the GCol library.\n",
    "\n",
    "## Background\n",
    "\n",
    "Each year, a college needs to produce an exam timetable for its students. The aim is to assign each exam to a \"timeslot\" while trying to avoid \"clashes\". (A clash occurs when there are one or more students who need to attend a pair of exams, but these exams have been assigned to the same timeslot and therefore occur at the same time.) \n",
    "\n",
    "The problem is specified using an $n\\times n$ symmetrical matrix $X$, where $n$ is the number of exams to schedule. An element $X_{ij}$ in this matrix gives the number of students who need to sit both exams $i$ and $j$. Also, an element $X_{ii}$ gives the total number of students sitting exam $i$. For example, in the following matrix:\n",
    "\n",
    "$$\n",
    "\\begin{pmatrix}\n",
    "9 & 0 & 0 & 1 & 0 & 0 & 6 & 0 \\\\\n",
    "0 & 4 & 0 & 0 & 0 & 0 & 0 & 1 \\\\\n",
    "0 & 0 & 9 & 0 & 4 & 0 & 0 & 0 \\\\\n",
    "1 & 0 & 0 & 3 & 0 & 0 & 0 & 1 \\\\\n",
    "0 & 0 & 4 & 0 & 8 & 0 & 0 & 3 \\\\\n",
    "0 & 0 & 0 & 0 & 0 & 4 & 0 & 0 \\\\\n",
    "6 & 0 & 0 & 0 & 0 & 0 & 9 & 2 \\\\\n",
    "0 & 1 & 0 & 1 & 3 & 0 & 2 & 8\n",
    "\\end{pmatrix}\n",
    "$$\n",
    "\n",
    "-  There are $n=8$ exams (labelled 0 to 7),\n",
    "-  There is one student who needs to sit exams 0 and 3 (because $X_{0,3}=1$),\n",
    "-  There are six students who need to sit exams 0 and 7 (because $X_{0,7}=6$),\n",
    "-  Nine students are sitting exam 0 (because $X_{0,0}=9$), and so on.\n",
    "  \n",
    "In this matrix, zeros indicate that no students need to sit the two corresponding exams. This means that the pair of exams can be assigned to the same timeslot, and no students will be inconvenienced.\n",
    "\n",
    "A college administrator has been put in charge of creating this year's timetable, which involves $n=139$ exams. The full details of this problem are given to her in the file [timetable.txt](https://github.com/Rhyd-Lewis/GCol/blob/main/docs/casestudy/timetable.txt), which contains an $n \\times n$ symmetrical matrix as described above. She quickly realizes that this problem is too large to solve by hand but can be handled using graph coloring techniques, using nodes for exams and colors for timeslots.\n",
    "\n",
    "## An Initial Solution\n",
    "\n",
    "To start, our administrator reads the file [timetable.txt](https://github.com/Rhyd-Lewis/GCol/blob/main/docs/casestudy/timetable.txt) into a matrix $X$ and creates an $n$-node graph where each node corresponds to an exam. Nodes in this graph are then made adjacent whenever the corresponding pair of exams has a common student. That is, nodes $v_i$ and $v_j$ are made adjacent if and only if $X_{ij}>0$ and $i\\neq j$. Having done this, the administrator determines the chromatic number of this graph. This corresponds to the minimum number of timeslots that are needed to construct a clash-free timetable."
   ]
  },
  {
   "cell_type": "code",
   "execution_count": 1,
   "id": "dd9f6bdb-1e50-461a-8f44-1145215c7bc7",
   "metadata": {},
   "outputs": [
    {
     "name": "stdout",
     "output_type": "stream",
     "text": [
      "Constructed a Graph with 139 nodes and 1381 edges\n",
      "Minimum number of timeslots needed for a clash free timetable = 13\n"
     ]
    }
   ],
   "source": [
    "import networkx as nx\n",
    "import gcol\n",
    "import matplotlib.pyplot as plt\n",
    "\n",
    "#Read in the text file and store in matrix X\n",
    "X = []\n",
    "with open('timetable.txt','r') as f:\n",
    "    n = int(f.readline())\n",
    "    for i in range(n):\n",
    "        line = f.readline().split(\",\")\n",
    "        line = [int(x) for x in line]\n",
    "        X.append(line)\n",
    "\n",
    "#Construct the graph G\n",
    "G = nx.Graph()\n",
    "G.add_nodes_from([i for i in range(n) if X[i][i] > 0])\n",
    "for i in range(n-1):\n",
    "    for j in range(i+1, n):\n",
    "        if X[i][j] > 0:\n",
    "            G.add_edge(i, j)\n",
    "print(\"Constructed a\", G)\n",
    "print(\"Minimum number of timeslots needed for a clash free timetable =\", gcol.chromatic_number(G))"
   ]
  },
  {
   "cell_type": "markdown",
   "id": "83b0bf68-d45a-49d5-9b40-1213fb2ad00b",
   "metadata": {},
   "source": [
    "The results reveal that clash-free timetables are only possible when 13 or more timeslots are used to schedule these exams. \n",
    "\n",
    "## Scheduling Large Exams First\n",
    "\n",
    "In previous years, the college has constructed the timetable by taking the largest 15 exams and assigning each one to a different timeslot. The remaining exams are then added to the timetable, creating new timeslots where needed. The administrator thinks this could be a way forward and uses ``gcol``'s precoloring routines to emulate this process. "
   ]
  },
  {
   "cell_type": "code",
   "execution_count": 2,
   "id": "dd7c4774-fe38-4f26-b300-5c078590f42b",
   "metadata": {},
   "outputs": [
    {
     "name": "stdout",
     "output_type": "stream",
     "text": [
      "Here are the sizes of each exam\n",
      "[(236, 71), (208, 137), (208, 134), (208, 96), (208, 70), (208, 2), (127, 107), (121, 5), (119, 109), (118, 105), (117, 73), (110, 106), (101, 68), (90, 28), (89, 132), (89, 104), (87, 103), (84, 3), (77, 135), (74, 133), (73, 102), (71, 131), (67, 48), (61, 138), (39, 26), (35, 129), (35, 97), (34, 128), (34, 127), (34, 93), (34, 92), (34, 66), (34, 65), (34, 46), (34, 45), (34, 25), (34, 24), (33, 69), (32, 126), (32, 121), (32, 94), (32, 91), (32, 86), (32, 64), (32, 59), (32, 44), (32, 39), (32, 23), (32, 18), (31, 99), (30, 111), (30, 98), (30, 76), (30, 49), (30, 29), (30, 8), (29, 120), (29, 113), (29, 100), (29, 85), (29, 78), (29, 58), (29, 51), (29, 38), (29, 31), (29, 17), (29, 10), (28, 136), (28, 118), (28, 117), (28, 115), (28, 83), (28, 82), (28, 80), (28, 56), (28, 55), (28, 53), (28, 36), (28, 35), (28, 33), (28, 15), (28, 14), (28, 12), (27, 110), (27, 101), (27, 74), (27, 6), (26, 112), (26, 77), (26, 50), (26, 30), (26, 9), (24, 116), (24, 81), (24, 54), (24, 34), (24, 13), (23, 1), (21, 95), (20, 122), (20, 87), (20, 60), (20, 40), (20, 19), (19, 125), (19, 124), (19, 90), (19, 89), (19, 63), (19, 62), (19, 43), (19, 42), (19, 22), (19, 21), (13, 108), (12, 67), (12, 0), (10, 123), (10, 88), (10, 61), (10, 41), (10, 20), (9, 114), (9, 79), (9, 52), (9, 32), (9, 11), (8, 7), (7, 75), (7, 72), (2, 4), (1, 47), (0, 130), (0, 119), (0, 84), (0, 57), (0, 37), (0, 27), (0, 16)]\n",
      "Exam 71 has 236 students. Assigning to timeslot 0\n",
      "Exam 137 has 208 students. Assigning to timeslot 1\n",
      "Exam 134 has 208 students. Assigning to timeslot 2\n",
      "Exam 96 has 208 students. Assigning to timeslot 3\n",
      "Exam 70 has 208 students. Assigning to timeslot 4\n",
      "Exam 2 has 208 students. Assigning to timeslot 5\n",
      "Exam 107 has 127 students. Assigning to timeslot 6\n",
      "Exam 5 has 121 students. Assigning to timeslot 7\n",
      "Exam 109 has 119 students. Assigning to timeslot 8\n",
      "Exam 105 has 118 students. Assigning to timeslot 9\n",
      "Exam 73 has 117 students. Assigning to timeslot 10\n",
      "Exam 106 has 110 students. Assigning to timeslot 11\n",
      "Exam 68 has 101 students. Assigning to timeslot 12\n",
      "Exam 28 has 90 students. Assigning to timeslot 13\n",
      "Exam 132 has 89 students. Assigning to timeslot 14\n",
      "Here are the exams assigned to each timeslot\n",
      "Timeslot 0 : [71, 111, 112, 113, 114, 115, 116, 117, 118, 131]\n",
      "Timeslot 1 : [133, 135, 137]\n",
      "Timeslot 2 : [85, 86, 87, 89, 90, 91, 92, 93, 108, 110, 123, 134]\n",
      "Timeslot 3 : [0, 1, 17, 18, 19, 21, 22, 23, 24, 25, 41, 96, 119]\n",
      "Timeslot 4 : [3, 16, 70, 102, 103]\n",
      "Timeslot 5 : [2]\n",
      "Timeslot 6 : [94, 95, 99, 104, 107]\n",
      "Timeslot 7 : [4, 5, 6, 7, 29, 30, 31, 32, 33, 34, 35, 36, 37, 138]\n",
      "Timeslot 8 : [109, 120, 121, 122, 124, 125, 126, 127, 128]\n",
      "Timeslot 9 : [38, 39, 40, 42, 43, 44, 45, 46, 61, 105, 129]\n",
      "Timeslot 10 : [72, 73, 74, 75, 76, 77, 78, 79, 80, 81, 82, 83, 84, 97, 98, 100, 101]\n",
      "Timeslot 11 : [106]\n",
      "Timeslot 12 : [58, 59, 60, 62, 63, 64, 65, 66, 67, 68, 69, 88]\n",
      "Timeslot 13 : [20, 26, 27, 28, 47, 48, 49, 50, 51, 52, 53, 54, 55, 56, 57]\n",
      "Timeslot 14 : [8, 9, 10, 11, 12, 13, 14, 15, 130, 132, 136]\n"
     ]
    }
   ],
   "source": [
    "#Get a list of exams, sorted by size, and assign the first 15 to different colors\n",
    "sizeExam = [(X[i][i], i) for i in range(n)]\n",
    "sizeExam.sort(reverse=True)\n",
    "print(\"Here are the sizes of each exam\")\n",
    "print(sizeExam)\n",
    "\n",
    "P = {}\n",
    "for i in range(15):\n",
    "    print(\"Exam\", sizeExam[i][1], \"has\", sizeExam[i][0], \"students. Assigning to timeslot\", i)\n",
    "    P[sizeExam[i][1]] = i\n",
    "\n",
    "c = gcol.node_precoloring(G, P, opt_alg=1)\n",
    "P = gcol.partition(c)\n",
    "print(\"Here are the exams assigned to each timeslot\")\n",
    "for i in range(len(P)):\n",
    "    print(\"Timeslot\", i, \":\", P[i])"
   ]
  },
  {
   "cell_type": "markdown",
   "id": "00fcdf26-28cc-45b3-a8ba-be163e30d112",
   "metadata": {},
   "source": [
    "## Balancing Exams\n",
    "\n",
    "Despite the previous approach working satisfactorily, the administrator decides that it is overly complex and abandons it. She also notices that the seven smallest exams in the dataset have no attending students, so she decides to remove them from the graph in future calculations. She is also worried that some timeslots might contain too many exams and that the university will not have enough seats available in these cases. As a result, she decides to try and balance the number of students sitting exams in each timeslot. \n",
    "\n",
    "To do this, she creates a similar graph as above but specifies a weight for each node, which gives the size of the corresponding exam. She also ignores the seven empty exams. As shown, she is now able to produce a clash-free 13-timeslot solution in which the number of students per-timeslot ranges between 417 and 442."
   ]
  },
  {
   "cell_type": "code",
   "execution_count": 3,
   "id": "672f006e-6f66-4fa7-acaa-5c51c2395aa6",
   "metadata": {},
   "outputs": [
    {
     "name": "stdout",
     "output_type": "stream",
     "text": [
      "Here are the exams assigned to each timeslot\n",
      "Timeslot 0 : [3, 72, 73, 74, 134]\n",
      "Timeslot 1 : [0, 1, 8, 13, 14, 17, 18, 19, 21, 22, 23, 24, 25, 33, 41, 51, 56]\n",
      "Timeslot 2 : [67, 68, 69, 104, 105, 132]\n",
      "Timeslot 3 : [5, 6, 7, 96, 135]\n",
      "Timeslot 4 : [20, 26, 70, 102, 103]\n",
      "Timeslot 5 : [12, 32, 47, 75, 78, 106, 107, 111, 117, 118, 129]\n",
      "Timeslot 6 : [2, 108, 109, 110, 138]\n",
      "Timeslot 7 : [4, 28, 97, 98, 100, 101, 137]\n",
      "Timeslot 8 : [9, 11, 15, 29, 35, 71, 133]\n",
      "Timeslot 9 : [36, 38, 39, 40, 42, 43, 44, 45, 46, 53, 79, 82, 112, 116, 131]\n",
      "Timeslot 10 : [10, 52, 58, 59, 60, 62, 63, 64, 65, 66, 76, 77, 80, 81, 83, 88, 136]\n",
      "Timeslot 11 : [30, 31, 48, 54, 55, 61, 85, 86, 87, 89, 90, 91, 92, 93, 115]\n",
      "Timeslot 12 : [34, 49, 50, 94, 95, 99, 113, 114, 120, 121, 122, 123, 124, 125, 126, 127, 128]\n",
      "Number of students in timeslot 0 = 443\n",
      "Number of students in timeslot 1 = 431\n",
      "Number of students in timeslot 2 = 442\n",
      "Number of students in timeslot 3 = 441\n",
      "Number of students in timeslot 4 = 417\n",
      "Number of students in timeslot 5 = 432\n",
      "Number of students in timeslot 6 = 428\n",
      "Number of students in timeslot 7 = 421\n",
      "Number of students in timeslot 8 = 431\n",
      "Number of students in timeslot 9 = 433\n",
      "Number of students in timeslot 10 = 431\n",
      "Number of students in timeslot 11 = 431\n",
      "Number of students in timeslot 12 = 431\n"
     ]
    }
   ],
   "source": [
    "#Construct the node-weighted graph G\n",
    "G = nx.Graph()\n",
    "for i in range(n):\n",
    "    if X[i][i] > 0:\n",
    "        G.add_node(i, weight=X[i][i])\n",
    "for i in range(n-1):\n",
    "    for j in range(i+1, n):\n",
    "        if X[i][i] > 0 and X[j][j] > 0 and X[i][j] > 0:\n",
    "            G.add_edge(i, j)\n",
    "\n",
    "c = gcol.equitable_node_k_coloring(G, 13, weight=\"weight\")\n",
    "P = gcol.partition(c)\n",
    "print(\"Here are the exams assigned to each timeslot\")\n",
    "for i in range(len(P)):\n",
    "    print(\"Timeslot\", i, \":\", P[i])\n",
    "for j in range(len(P)):\n",
    "    Wj = [G.nodes[v][\"weight\"] for v in P[j]]\n",
    "    print(\"Number of students in timeslot\", j, \"=\", sum(Wj))"
   ]
  },
  {
   "cell_type": "markdown",
   "id": "3e813f37-f3f7-4e30-a94d-b7dade9858cd",
   "metadata": {},
   "source": [
    "## Limiting Timeslots\n",
    "\n",
    "At this point, the administrator is feeling rather pleased with herself: she has produced a 13-timeslot solution, proved that this is the minimum number of timeslots needed, and found a nice balance of students per-timeslot. She is somewhat irritated, then, when the college manager tells her that there is ample seating capacity, but only twelve timeslots. The latter means that the timetable will either need to have some clashes or some unscheduled exams.\n",
    "\n",
    "To investigate this, she first constructs a solution that seeks to minimize the total size of unscheduled exams. To do this, she uses the same node-weighted graph as above, but makes use of the ``gcol.min_cost_k_coloring()`` routine. This leads to the following solution:"
   ]
  },
  {
   "cell_type": "code",
   "execution_count": 4,
   "id": "b09a17d7-d3a3-4f7c-90d0-4135728c308b",
   "metadata": {},
   "outputs": [
    {
     "name": "stdout",
     "output_type": "stream",
     "text": [
      "Here are the exams assigned to each timeslot\n",
      "Timeslot 0 : [3, 72, 73, 74, 134]\n",
      "Timeslot 1 : [0, 1, 8, 13, 14, 17, 18, 19, 21, 22, 23, 24, 25, 33, 41, 51, 56]\n",
      "Timeslot 2 : [67, 68, 69, 104, 105, 132]\n",
      "Timeslot 3 : [5, 6, 7, 96, 135]\n",
      "Timeslot 4 : [20, 26, 70, 102, 103]\n",
      "Timeslot 5 : [12, 32, 47, 75, 78, 106, 107, 111, 117, 118, 129]\n",
      "Timeslot 6 : [2, 108, 109, 110, 138]\n",
      "Timeslot 7 : [4, 28, 97, 98, 100, 101, 137]\n",
      "Timeslot 8 : [9, 11, 15, 29, 35, 71, 133]\n",
      "Timeslot 9 : [36, 38, 39, 40, 42, 43, 44, 45, 46, 53, 79, 82, 112, 116, 131]\n",
      "Timeslot 10 : [10, 52, 58, 59, 60, 62, 63, 64, 65, 66, 76, 77, 80, 81, 83, 88, 136]\n",
      "Timeslot 11 : [30, 31, 48, 54, 55, 61, 85, 86, 87, 89, 90, 91, 92, 93, 115]\n",
      "Timeslot 12 : [34, 49, 50, 94, 95, 99, 113, 114, 120, 121, 122, 123, 124, 125, 126, 127, 128]\n",
      "The 8 unscheduled exams have the following sizes [19, 19, 20, 29, 32, 32, 34, 34] , which totals 219\n"
     ]
    }
   ],
   "source": [
    "c = gcol.min_cost_k_coloring(G, 12, weight=\"weight\", weights_at=\"nodes\", it_limit=10000)\n",
    "U = list(G.nodes[u][\"weight\"] for u in c if c[u] <= -1)\n",
    "print(\"Here are the exams assigned to each timeslot\")\n",
    "for i in range(len(P)):\n",
    "    print(\"Timeslot\", i, \":\", P[i])\n",
    "print(\"The\", len(U), \"unscheduled exams have the following sizes\", sorted(U), \", which totals\", sum(U))"
   ]
  },
  {
   "cell_type": "markdown",
   "id": "1fc7e37f-9f64-4f30-a03d-b2199cb2577d",
   "metadata": {},
   "source": [
    "As shown, this gives a 12-timeslot solution but leaves 8 unscheduled exams. \n",
    "\n",
    "As an alternative, she now tries to minimize the number of clashes by forming an edge-weighted graph in which each edge $\\{v_i,v_j\\}$ has a weight equal to $X_{ij}$. "
   ]
  },
  {
   "cell_type": "code",
   "execution_count": 5,
   "id": "617da160-64ce-42d0-846f-3f24487ac16c",
   "metadata": {},
   "outputs": [
    {
     "name": "stdout",
     "output_type": "stream",
     "text": [
      "Here are the exams assigned to each timeslot\n",
      "Timeslot 0 : [3, 72, 73, 74, 134]\n",
      "Timeslot 1 : [0, 1, 8, 13, 14, 17, 18, 19, 21, 22, 23, 24, 25, 33, 41, 51, 56]\n",
      "Timeslot 2 : [67, 68, 69, 104, 105, 132]\n",
      "Timeslot 3 : [5, 6, 7, 96, 135]\n",
      "Timeslot 4 : [20, 26, 70, 102, 103]\n",
      "Timeslot 5 : [12, 32, 47, 75, 78, 106, 107, 111, 117, 118, 129]\n",
      "Timeslot 6 : [2, 108, 109, 110, 138]\n",
      "Timeslot 7 : [4, 28, 97, 98, 100, 101, 137]\n",
      "Timeslot 8 : [9, 11, 15, 29, 35, 71, 133]\n",
      "Timeslot 9 : [36, 38, 39, 40, 42, 43, 44, 45, 46, 53, 79, 82, 112, 116, 131]\n",
      "Timeslot 10 : [10, 52, 58, 59, 60, 62, 63, 64, 65, 66, 76, 77, 80, 81, 83, 88, 136]\n",
      "Timeslot 11 : [30, 31, 48, 54, 55, 61, 85, 86, 87, 89, 90, 91, 92, 93, 115]\n",
      "Timeslot 12 : [34, 49, 50, 94, 95, 99, 113, 114, 120, 121, 122, 123, 124, 125, 126, 127, 128]\n",
      "Here are the clashes in this timetable:\n",
      "Exams 26 and 138 assigned to timeslot 4 but have 1 common student(s)\n"
     ]
    }
   ],
   "source": [
    "#Construct the edge-weighted graph G\n",
    "G = nx.Graph()\n",
    "for i in range(n):\n",
    "    if X[i][i] > 0:\n",
    "        G.add_node(i)\n",
    "for i in range(n-1):\n",
    "    for j in range(i+1, n):\n",
    "        if X[i][i] > 0 and X[j][j] > 0 and X[i][j] > 0:\n",
    "            G.add_edge(i, j, weight=X[i][j])\n",
    "\n",
    "c = gcol.min_cost_k_coloring(G, 12, weight=\"weight\", weights_at=\"edges\", it_limit=10000)\n",
    "print(\"Here are the exams assigned to each timeslot\")\n",
    "for i in range(len(P)):\n",
    "    print(\"Timeslot\", i, \":\", P[i])\n",
    "print(\"Here are the clashes in this timetable:\")\n",
    "for u, v in G.edges():\n",
    "    if c[u] == c[v]:\n",
    "        print(\"Exams\", u , \"and\", v, \"assigned to timeslot\", c[v], \"but have\", X[u][v], \"common student(s)\")"
   ]
  },
  {
   "cell_type": "markdown",
   "id": "9ba2cb2e-9242-43db-a393-16749283d72f",
   "metadata": {},
   "source": [
    "As shown, this leads to a 12-timeslot solution in which only one student is affected by a clash. She submits this solution to her manager who is so pleased, he gives her a promotion."
   ]
  }
 ],
 "metadata": {
  "kernelspec": {
   "display_name": "Python 3 (ipykernel)",
   "language": "python",
   "name": "python3"
  },
  "language_info": {
   "codemirror_mode": {
    "name": "ipython",
    "version": 3
   },
   "file_extension": ".py",
   "mimetype": "text/x-python",
   "name": "python",
   "nbconvert_exporter": "python",
   "pygments_lexer": "ipython3",
   "version": "3.12.4"
  }
 },
 "nbformat": 4,
 "nbformat_minor": 5
}
